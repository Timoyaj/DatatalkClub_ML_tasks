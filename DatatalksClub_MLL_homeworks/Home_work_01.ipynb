{
 "cells": [
  {
   "cell_type": "markdown",
   "metadata": {},
   "source": [
    "## Home Work 1 :Introduction "
   ]
  },
  {
   "cell_type": "code",
   "execution_count": 126,
   "metadata": {},
   "outputs": [],
   "source": [
    "#Import needed files\n",
    "import pandas as pd\n",
    "import numpy as np"
   ]
  },
  {
   "cell_type": "code",
   "execution_count": 204,
   "metadata": {},
   "outputs": [],
   "source": [
    "#Import Dataset from file\n",
    "df = pd.read_csv(\"laptops.csv\")\n"
   ]
  },
  {
   "cell_type": "code",
   "execution_count": 205,
   "metadata": {},
   "outputs": [
    {
     "data": {
      "text/html": [
       "<div>\n",
       "<style scoped>\n",
       "    .dataframe tbody tr th:only-of-type {\n",
       "        vertical-align: middle;\n",
       "    }\n",
       "\n",
       "    .dataframe tbody tr th {\n",
       "        vertical-align: top;\n",
       "    }\n",
       "\n",
       "    .dataframe thead th {\n",
       "        text-align: right;\n",
       "    }\n",
       "</style>\n",
       "<table border=\"1\" class=\"dataframe\">\n",
       "  <thead>\n",
       "    <tr style=\"text-align: right;\">\n",
       "      <th></th>\n",
       "      <th>Unnamed: 0</th>\n",
       "      <th>Laptop</th>\n",
       "      <th>Status</th>\n",
       "      <th>Brand</th>\n",
       "      <th>Model</th>\n",
       "      <th>CPU</th>\n",
       "      <th>RAM</th>\n",
       "      <th>Storage</th>\n",
       "      <th>Storage type</th>\n",
       "      <th>GPU</th>\n",
       "      <th>Screen</th>\n",
       "      <th>Touch</th>\n",
       "      <th>Final Price</th>\n",
       "    </tr>\n",
       "  </thead>\n",
       "  <tbody>\n",
       "    <tr>\n",
       "      <th>0</th>\n",
       "      <td>0</td>\n",
       "      <td>ASUS ExpertBook B1 B1502CBA-EJ0436X Intel Core...</td>\n",
       "      <td>New</td>\n",
       "      <td>Asus</td>\n",
       "      <td>ExpertBook</td>\n",
       "      <td>Intel Core i5</td>\n",
       "      <td>8</td>\n",
       "      <td>512</td>\n",
       "      <td>SSD</td>\n",
       "      <td>NaN</td>\n",
       "      <td>15.6</td>\n",
       "      <td>No</td>\n",
       "      <td>1009.00</td>\n",
       "    </tr>\n",
       "    <tr>\n",
       "      <th>1</th>\n",
       "      <td>1</td>\n",
       "      <td>Alurin Go Start Intel Celeron N4020/8GB/256GB ...</td>\n",
       "      <td>New</td>\n",
       "      <td>Alurin</td>\n",
       "      <td>Go</td>\n",
       "      <td>Intel Celeron</td>\n",
       "      <td>8</td>\n",
       "      <td>256</td>\n",
       "      <td>SSD</td>\n",
       "      <td>NaN</td>\n",
       "      <td>15.6</td>\n",
       "      <td>No</td>\n",
       "      <td>299.00</td>\n",
       "    </tr>\n",
       "    <tr>\n",
       "      <th>2</th>\n",
       "      <td>2</td>\n",
       "      <td>ASUS ExpertBook B1 B1502CBA-EJ0424X Intel Core...</td>\n",
       "      <td>New</td>\n",
       "      <td>Asus</td>\n",
       "      <td>ExpertBook</td>\n",
       "      <td>Intel Core i3</td>\n",
       "      <td>8</td>\n",
       "      <td>256</td>\n",
       "      <td>SSD</td>\n",
       "      <td>NaN</td>\n",
       "      <td>15.6</td>\n",
       "      <td>No</td>\n",
       "      <td>789.00</td>\n",
       "    </tr>\n",
       "    <tr>\n",
       "      <th>3</th>\n",
       "      <td>3</td>\n",
       "      <td>MSI Katana GF66 12UC-082XES Intel Core i7-1270...</td>\n",
       "      <td>New</td>\n",
       "      <td>MSI</td>\n",
       "      <td>Katana</td>\n",
       "      <td>Intel Core i7</td>\n",
       "      <td>16</td>\n",
       "      <td>1000</td>\n",
       "      <td>SSD</td>\n",
       "      <td>RTX 3050</td>\n",
       "      <td>15.6</td>\n",
       "      <td>No</td>\n",
       "      <td>1199.00</td>\n",
       "    </tr>\n",
       "    <tr>\n",
       "      <th>4</th>\n",
       "      <td>4</td>\n",
       "      <td>HP 15S-FQ5085NS Intel Core i5-1235U/16GB/512GB...</td>\n",
       "      <td>New</td>\n",
       "      <td>HP</td>\n",
       "      <td>15S</td>\n",
       "      <td>Intel Core i5</td>\n",
       "      <td>16</td>\n",
       "      <td>512</td>\n",
       "      <td>SSD</td>\n",
       "      <td>NaN</td>\n",
       "      <td>15.6</td>\n",
       "      <td>No</td>\n",
       "      <td>669.01</td>\n",
       "    </tr>\n",
       "  </tbody>\n",
       "</table>\n",
       "</div>"
      ],
      "text/plain": [
       "   Unnamed: 0                                             Laptop Status  \\\n",
       "0           0  ASUS ExpertBook B1 B1502CBA-EJ0436X Intel Core...    New   \n",
       "1           1  Alurin Go Start Intel Celeron N4020/8GB/256GB ...    New   \n",
       "2           2  ASUS ExpertBook B1 B1502CBA-EJ0424X Intel Core...    New   \n",
       "3           3  MSI Katana GF66 12UC-082XES Intel Core i7-1270...    New   \n",
       "4           4  HP 15S-FQ5085NS Intel Core i5-1235U/16GB/512GB...    New   \n",
       "\n",
       "    Brand       Model            CPU  RAM  Storage Storage type       GPU  \\\n",
       "0    Asus  ExpertBook  Intel Core i5    8      512          SSD       NaN   \n",
       "1  Alurin          Go  Intel Celeron    8      256          SSD       NaN   \n",
       "2    Asus  ExpertBook  Intel Core i3    8      256          SSD       NaN   \n",
       "3     MSI      Katana  Intel Core i7   16     1000          SSD  RTX 3050   \n",
       "4      HP         15S  Intel Core i5   16      512          SSD       NaN   \n",
       "\n",
       "   Screen Touch  Final Price  \n",
       "0    15.6    No      1009.00  \n",
       "1    15.6    No       299.00  \n",
       "2    15.6    No       789.00  \n",
       "3    15.6    No      1199.00  \n",
       "4    15.6    No       669.01  "
      ]
     },
     "execution_count": 205,
     "metadata": {},
     "output_type": "execute_result"
    }
   ],
   "source": [
    "#make a copy of the original dataframe\n",
    "data=df.copy()\n",
    "\n",
    "#inspect the data\n",
    "data.head()"
   ]
  },
  {
   "cell_type": "markdown",
   "metadata": {},
   "source": [
    "**Question 1:** What's the version of Pandas that you installed?\n",
    "\n",
    "**Solution:**"
   ]
  },
  {
   "cell_type": "code",
   "execution_count": 142,
   "metadata": {},
   "outputs": [
    {
     "name": "stdout",
     "output_type": "stream",
     "text": [
      "The version of pandas installed is Pandas-2.2.2\n"
     ]
    }
   ],
   "source": [
    "# find the version of pandas installed\n",
    "\n",
    "version_install=pd.__version__\n",
    "print(\"The version of pandas installed is Pandas-{}\".format(version_install))"
   ]
  },
  {
   "cell_type": "markdown",
   "metadata": {},
   "source": [
    "**Quetion 2:** How many records are in the dataset?\n",
    "\n",
    "**Solution:** \n",
    "\n",
    "We will use the shape method to obtain the number of rows and columns in the dataframe. The shape method returns a tuple of the number of rows and columns, so we can use the first element of the tuple to get the number of rows."
   ]
  },
  {
   "cell_type": "code",
   "execution_count": 143,
   "metadata": {},
   "outputs": [
    {
     "name": "stdout",
     "output_type": "stream",
     "text": [
      "The data contains 2160 records\n"
     ]
    }
   ],
   "source": [
    "# Find the number of records\n",
    "records=data.shape[0]\n",
    "print(\"The data contains {} records\".format(records))"
   ]
  },
  {
   "cell_type": "markdown",
   "metadata": {},
   "source": [
    "**Question 3:** How many brands are in the dataset?\n",
    "\n",
    "**Solution:** \n",
    "\n",
    "we we use the nunique method in pandas to fine the number of Brand in the dataset"
   ]
  },
  {
   "cell_type": "code",
   "execution_count": 144,
   "metadata": {},
   "outputs": [
    {
     "name": "stdout",
     "output_type": "stream",
     "text": [
      "There are 27 brands of laptops in the dataset\n"
     ]
    }
   ],
   "source": [
    "# We will use the nunique method to fine the brands\n",
    "num_brands = data['Brand'].nunique()\n",
    "print(\"There are {} brands of laptops in the dataset\".format(num_brands))\n"
   ]
  },
  {
   "cell_type": "markdown",
   "metadata": {},
   "source": [
    "**Question 4:**  How many columns in the dataset have missing values?\n",
    "\n",
    "**Solution:**"
   ]
  },
  {
   "cell_type": "code",
   "execution_count": 146,
   "metadata": {},
   "outputs": [
    {
     "name": "stdout",
     "output_type": "stream",
     "text": [
      "Columns with missing values: 2\n"
     ]
    }
   ],
   "source": [
    "\n",
    "# Find columns with missing values in the dataset we will apply the len function on the  isnull and any methods of pandas\n",
    "missing_values = len(data.columns[data.isnull().any()])\n",
    "print(\"Columns with missing values:\", missing_values)\n"
   ]
  },
  {
   "cell_type": "markdown",
   "metadata": {},
   "source": [
    "**Question 5:** What's the maximum final price of Dell notebooks in the dataset?\n",
    "\n",
    "**Solution:**"
   ]
  },
  {
   "cell_type": "code",
   "execution_count": 147,
   "metadata": {},
   "outputs": [
    {
     "name": "stdout",
     "output_type": "stream",
     "text": [
      "The maximum final price for Dell notebooks in the data is 3936.0\n"
     ]
    }
   ],
   "source": [
    "#maximum final price of dell laptops\n",
    "max_price=data[data.Brand==\"Dell\"]['Final Price'].max()\n",
    "print(\"The maximum final price for Dell notebooks in the data is {}\".format(max_price))"
   ]
  },
  {
   "cell_type": "markdown",
   "metadata": {},
   "source": [
    "**Question 6:** Median value of Screen\n",
    "\n",
    "1. Find the median value of Screen column in the dataset.\n",
    "2. Next, calculate the most frequent value of the same Screen column.\n",
    "3. Use fillna method to fill the missing values in Screen column with the most frequent value from the previous step.\n",
    "4. Now, calculate the median value of Screen once again. Has it changed?\n",
    "\n",
    "**Solution :**"
   ]
  },
  {
   "cell_type": "code",
   "execution_count": 158,
   "metadata": {},
   "outputs": [
    {
     "name": "stdout",
     "output_type": "stream",
     "text": [
      "median value of Screen column in the dataset is 15.6 \n"
     ]
    }
   ],
   "source": [
    "#median value of Screen column in the dataset\n",
    "median_value=np.median(data[['Screen']])\n",
    "print(\"median value of Screen column in the dataset is {} \".format(median_value))"
   ]
  },
  {
   "cell_type": "code",
   "execution_count": 160,
   "metadata": {},
   "outputs": [
    {
     "name": "stdout",
     "output_type": "stream",
     "text": [
      "The most frequent value in the dataset is 15.6\n"
     ]
    }
   ],
   "source": [
    "# Calculate the most frequent value of  the 'Screen' column\n",
    "most_frequent_value = data['Screen'].mode()[0]\n",
    "\n",
    "print(\"The most frequent value in the dataset is {}\".format(most_frequent_value))\n"
   ]
  },
  {
   "cell_type": "code",
   "execution_count": 162,
   "metadata": {},
   "outputs": [
    {
     "data": {
      "text/plain": [
       "Screen    False\n",
       "dtype: bool"
      ]
     },
     "execution_count": 162,
     "metadata": {},
     "output_type": "execute_result"
    }
   ],
   "source": [
    "#fillna method to fill the missing values in Screen column with the most frequent value \n",
    "data[['Screen']]=data[['Screen']].fillna(most_frequent_value)\n",
    "\n",
    "#check to see if the values are fille correctly\n",
    "data[['Screen']].isna().any()"
   ]
  },
  {
   "cell_type": "code",
   "execution_count": 185,
   "metadata": {},
   "outputs": [
    {
     "name": "stdout",
     "output_type": "stream",
     "text": [
      "No, it has not changed\n"
     ]
    }
   ],
   "source": [
    "#calculate the median value of Screen once again and check if it has changed?\n",
    "old_median_value=median_value\n",
    "new_median_value=np.median((data['Screen']))\n",
    "if old_median_value!=new_median_value:\n",
    "    print(\"Yes, it has changed\")\n",
    "else:\n",
    "    print(\"No, it has not changed\")"
   ]
  },
  {
   "cell_type": "markdown",
   "metadata": {},
   "source": [
    "**Question 7.** What's the sum of all the elements of the result?\n",
    "\n",
    "1. Select all the \"Innjoo\" laptops from the dataset.\n",
    "\n",
    "2. Select only columns RAM, Storage, Screen.\n",
    "\n",
    "3. Get the underlying NumPy array. Let's call it X.\n",
    "\n",
    "4. Compute matrix-matrix multiplication between the transpose of X and X. To get the transpose, use X.T. Let's call the result XTX.\n",
    "\n",
    "5. Compute the inverse of XTX.\n",
    "\n",
    "6. Create an array y with values [1100, 1300, 800, 900, 1000, 1100].\n",
    "\n",
    "7. Multiply the inverse of XTX with the transpose of X, and then multiply the result by y. Call the result w.\n",
    "\n",
    "\n",
    "\n",
    "\n",
    "**Solution**:"
   ]
  },
  {
   "cell_type": "code",
   "execution_count": 186,
   "metadata": {},
   "outputs": [],
   "source": [
    "#Select all the \"Innjoo\" laptops from the dataset.\n",
    "df_innjoo=data[data.Brand==\"Innjoo\"]"
   ]
  },
  {
   "cell_type": "code",
   "execution_count": 187,
   "metadata": {},
   "outputs": [],
   "source": [
    "#sellect \"RAM\",\"Storage\", \"Screen\" from the data\n",
    "innjoo=df_innjoo[[\"RAM\",\"Storage\", \"Screen\"]]\n",
    " "
   ]
  },
  {
   "cell_type": "code",
   "execution_count": 189,
   "metadata": {},
   "outputs": [
    {
     "data": {
      "text/plain": [
       "array([[  8. , 256. ,  15.6],\n",
       "       [  8. , 512. ,  15.6],\n",
       "       [  4. ,  64. ,  14.1],\n",
       "       [  6. ,  64. ,  14.1],\n",
       "       [  6. , 128. ,  14.1],\n",
       "       [  6. , 128. ,  14.1]])"
      ]
     },
     "execution_count": 189,
     "metadata": {},
     "output_type": "execute_result"
    }
   ],
   "source": [
    "#Numpy array for dataframe innjoo denoted as X\n",
    "X=np.array(innjoo)\n",
    "X"
   ]
  },
  {
   "cell_type": "code",
   "execution_count": 191,
   "metadata": {},
   "outputs": [
    {
     "name": "stdout",
     "output_type": "stream",
     "text": [
      "[[2.52000e+02 8.32000e+03 5.59800e+02]\n",
      " [8.32000e+03 3.68640e+05 1.73952e+04]\n",
      " [5.59800e+02 1.73952e+04 1.28196e+03]]\n"
     ]
    }
   ],
   "source": [
    "# Compute the transpose of X\n",
    "x_transpose = X.T\n",
    "\n",
    "# Compute matrix-matrix multiplication between the transpose of X and X\n",
    "XTX = np.dot(x_transpose, X)\n",
    "\n",
    "# Print the result\n",
    "print(XTX)\n"
   ]
  },
  {
   "cell_type": "code",
   "execution_count": 192,
   "metadata": {},
   "outputs": [
    {
     "name": "stdout",
     "output_type": "stream",
     "text": [
      "[[ 2.78025381e-01 -1.51791334e-03 -1.00809855e-01]\n",
      " [-1.51791334e-03  1.58286725e-05  4.48052175e-04]\n",
      " [-1.00809855e-01  4.48052175e-04  3.87214888e-02]]\n"
     ]
    }
   ],
   "source": [
    "\n",
    "# Compute the inverse of XTX\n",
    "XTX_inv = np.linalg.inv(XTX)\n",
    "print(XTX_inv)\n"
   ]
  },
  {
   "cell_type": "code",
   "execution_count": 193,
   "metadata": {},
   "outputs": [
    {
     "name": "stdout",
     "output_type": "stream",
     "text": [
      "[1100 1300  800  900 1000 1100]\n"
     ]
    }
   ],
   "source": [
    "#Create an array y with values [1100, 1300, 800, 900, 1000, 1100]\n",
    "y=[1100, 1300, 800, 900, 1000, 1100]\n",
    "y_arr=np.array(y)\n",
    "print(y_arr)"
   ]
  },
  {
   "cell_type": "code",
   "execution_count": 196,
   "metadata": {},
   "outputs": [
    {
     "name": "stdout",
     "output_type": "stream",
     "text": [
      "[45.58076606  0.42783519 45.29127938]\n"
     ]
    }
   ],
   "source": [
    "#Multiply the inverse of XTX with the transpose of X, and then multiply the result by y. Call the result w\n",
    "XTX_inv_transpose = np.dot(XTX_inv, x_transpose)\n",
    "w=np.dot(XTX_inv_transpose, y_arr)\n",
    "print(w)"
   ]
  },
  {
   "cell_type": "code",
   "execution_count": 202,
   "metadata": {},
   "outputs": [
    {
     "name": "stdout",
     "output_type": "stream",
     "text": [
      "sum of all the elements of the w is : 91.30\n"
     ]
    }
   ],
   "source": [
    "#sum of all the elements of the result\n",
    "sum_w= w.sum()\n",
    "print(\"sum of all the elements of the w is : {:.2f}\".format(sum_w))"
   ]
  }
 ],
 "metadata": {
  "kernelspec": {
   "display_name": "ML_env",
   "language": "python",
   "name": "python3"
  },
  "language_info": {
   "codemirror_mode": {
    "name": "ipython",
    "version": 3
   },
   "file_extension": ".py",
   "mimetype": "text/x-python",
   "name": "python",
   "nbconvert_exporter": "python",
   "pygments_lexer": "ipython3",
   "version": "3.11.8"
  }
 },
 "nbformat": 4,
 "nbformat_minor": 2
}
